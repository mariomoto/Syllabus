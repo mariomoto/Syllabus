{
 "cells": [
  {
   "cell_type": "markdown",
   "metadata": {
    "id": "B7lXO6Uzc62v"
   },
   "source": [
    "# Ayudantía 04: Iterables y Generadores 🔁\n",
    "\n",
    "## Ayudantes 👾\n",
    "\n",
    "Y sus recomendaciones semanales 🎵\n",
    "\n",
    "- S1: Enzo Acosta\n",
    "  - [Still Beating - Mac DeMarco](https://www.youtube.com/watch?v=Z1zPvvh3KxU)\n",
    "- S2: Bastián Pérez\n",
    "  - [Rivers Is a Vampire - Bear Ghost](https://www.youtube.com/watch?v=g-vpodj0Tqk)\n",
    "- S3: Clemente Campos\n",
    "  - [promise - key vs. locket](https://www.youtube.com/watch?v=hxMG9AELpKE)\n",
    "- S4: Carlos Olguín\n",
    "  - [TOOTIMETOOTIMETOOTIME - The 1975](https://www.youtube.com/watch?v=4fxPQUKfim4)\n",
    "- S5: Carlos Martel\n",
    "  - [Chlorine - Twenty One Pilots](https://www.youtube.com/watch?v=eJnQBXmZ7Ek)\n",
    "\n",
    "## Contenidos 📖\n",
    "\n",
    "- Iterables\n",
    "- Generadores\n",
    "- Listas Ligadas\n",
    "\n",
    "## DCChilean Express 🚂\n",
    "\n",
    "El magnífico tren DCChilean Express está pronto a partir rumbo a Castletown!\n",
    "\n",
    "## Ejercicio 1: ¡Prepárense para abordar! 🚉\n",
    "\n",
    "Antes de partir, te encomiendan una tarea muy importante. Debes revisar la carga y ver cuáles productos están más próximos a vencer. El problema es que la mercadería no está ordenada y esto dificulta tu trabajo considerablemente. Te sientas a pensar por un momento, y por el cansancio te quedas dormido. Tienes un sueño muy extraño, donde imaginas toda la mercadería como un objeto en Python. Si tan solo pudieras meter este objeto a un ciclo `for` y que te fuera entregando los productos ordenados por fecha de vencimiento... en este momento, despiertas y tienes totalmente claro lo que tienes que hacer: un **iterable**!!. \n",
    "\n",
    "Están definidas dos clases que representan una **mercadería** y una **fecha**. También está definida la función `fecha_sort`, que te ayudará más adelante. Deberás completar las clases `ConjuntoMercaderia` e `IteradorConjuntoMercaderia`, de modo de convertir a la primera en un **iterable**. Debes tener lo siguiente en cuenta:\n",
    "\n",
    "- Al iterar sobre una instancia de `ConjuntoMercaderia`, se deben ir entregando las mercaderías por orden de fecha de vencimiento, de más próxima a más lejana.\n",
    "- Las instancias de `ConjuntoMercaderia` deben ser indexables de la misma manera, es decir, `conjunto_mercaderia[i]` debe entregar la i-ésima mercadería más próxima a vencer.\n",
    "\n",
    "Tip: la función `sorted` te entrega una lista ordenada de menor a mayor. Recuerda cómo funciona el parámetro `key` de ésta.\n",
    "\n"
   ]
  },
  {
   "cell_type": "code",
   "execution_count": 9,
   "metadata": {
    "colab": {
     "base_uri": "https://localhost:8080/"
    },
    "executionInfo": {
     "elapsed": 76,
     "status": "ok",
     "timestamp": 1753727539658,
     "user": {
      "displayName": "CLEMENTE CAMPOS",
      "userId": "05449692516689846873"
     },
     "user_tz": 240
    },
    "id": "qlvODuG-c3r5",
    "outputId": "1b3fe704-1c02-4807-bd77-7bedee5cdc19"
   },
   "outputs": [
    {
     "name": "stdout",
     "output_type": "stream",
     "text": [
      "150 de arroz vencen el 2/9/2025\n",
      "55 de pan dulce vencen el 17/10/2025\n",
      "45 de té vencen el 19/10/2025\n",
      "30 de pan vencen el 6/4/2026\n",
      "130 de pasta vencen el 11/9/2026\n",
      "90 de mantecol vencen el 5/11/2026\n",
      "65 de sardinas vencen el 14/11/2026\n",
      "40 de manteca vencen el 12/12/2026\n",
      "55 de lentejas vencen el 25/1/2027\n",
      "110 de leche vencen el 9/2/2027\n",
      "75 de mantequilla vencen el 9/2/2027\n",
      "40 de quesillo de cabra vencen el 10/5/2027\n",
      "85 de atún vencen el 17/5/2027\n",
      "50 de mermelada vencen el 13/6/2027\n",
      "45 de queso vencen el 1/11/2027\n",
      "85 de cacao vencen el 15/12/2027\n",
      "120 de harina vencen el 22/3/2028\n",
      "85 de galletas vencen el 3/6/2028\n",
      "35 de chocolate vencen el 23/7/2028\n",
      "60 de aceitunas vencen el 27/7/2028\n",
      "70 de quesillo vencen el 16/9/2028\n",
      "60 de yogurt vencen el 4/10/2028\n",
      "70 de cereal vencen el 21/2/2029\n",
      "95 de vino vencen el 7/3/2029\n",
      "120 de cereal integral vencen el 22/4/2029\n",
      "65 de mantequilla clarificada vencen el 20/7/2029\n",
      "25 de miel vencen el 5/8/2029\n",
      "60 de café vencen el 8/12/2029\n",
      "55 de frutas vencen el 18/1/2030\n",
      "80 de frutillas vencen el 24/3/2030\n",
      "40 de conservas vencen el 28/4/2030\n",
      "200 de azúcar vencen el 30/7/2030\n",
      "75 de sal vencen el 29/8/2030\n",
      "----------------------------------------\n",
      "El séptimo producto en vencer es: 65 de sardinas vencen el 14/11/2026\n",
      "El último producto en vencer es: 75 de sal vencen el 29/8/2030\n"
     ]
    }
   ],
   "source": [
    "from __future__ import annotations\n",
    "from utils import Fecha, Mercaderia\n",
    "\n",
    "def fecha_sort(carga: Mercaderia):\n",
    "    # return (carga.fecha_vencimiento.ano, carga.fecha_vencimiento.mes, carga.fecha_vencimiento.dia)\n",
    "    return (carga.fecha_vencimiento)\n",
    "\n",
    "class ConjuntoMercaderia:\n",
    "\n",
    "    def __init__(self, nombre: str, sort_key: function):\n",
    "        self.nombre = nombre\n",
    "        self.cargas = []\n",
    "        self.sort_key = sort_key\n",
    "\n",
    "    # COMPLETAR\n",
    "    \n",
    "    def cargar(self, ruta: str):\n",
    "        with open(ruta, encoding=\"UTF-8\") as archivo:\n",
    "            for linea in archivo:\n",
    "                datos = linea.strip().split(\",\")\n",
    "                fecha = Fecha(*(int(i) for i in datos[1].split(\";\")))\n",
    "                carga = Mercaderia(datos[0], fecha, int(datos[2]), datos[3])\n",
    "                self.cargas.append(carga)\n",
    "\n",
    "    def __getitem__(self, index: int):\n",
    "        if index >= len(self.cargas):\n",
    "            raise IndexError\n",
    "        ordenada = sorted(self.cargas, key=self.sort_key)\n",
    "        return ordenada[index]\n",
    "\n",
    "\n",
    "class IteradorConjuntoMercaderia:\n",
    "\n",
    "    def __init__(self, cargas: list, sort_key: function):\n",
    "        self.cargas = cargas\n",
    "        self.sort_key = sort_key\n",
    "    \n",
    "    # COMPLETAR\n",
    "\n",
    "\n",
    "mercaderias = ConjuntoMercaderia(\"DCChilean Express\", fecha_sort)\n",
    "mercaderias.cargar(\"mercaderia.csv\")\n",
    "\n",
    "for carga in mercaderias:\n",
    "    print(f\"{carga.cantidad} de {carga.nombre} vencen el {carga.fecha_vencimiento.dia}/{carga.fecha_vencimiento.mes}/{carga.fecha_vencimiento.ano}\")\n",
    "\n",
    "print(\"-\" * 40)\n",
    "print(f\"El séptimo producto en vencer es: {mercaderias[6].cantidad} de {mercaderias[6].nombre} vencen el {mercaderias[6].fecha_vencimiento.dia}/{mercaderias[6].fecha_vencimiento.mes}/{mercaderias[6].fecha_vencimiento.ano}\")\n",
    "print(f\"El último producto en vencer es: {mercaderias[-1].cantidad} de {mercaderias[-1].nombre} vencen el {mercaderias[-1].fecha_vencimiento.dia}/{mercaderias[-1].fecha_vencimiento.mes}/{mercaderias[-1].fecha_vencimiento.ano}\")\n"
   ]
  },
  {
   "cell_type": "markdown",
   "metadata": {
    "id": "WaG3QHrAlQzS"
   },
   "source": [
    "## Ejercicio 2: Próxima estación... 🛤️\n",
    "\n",
    "Ahora que saben con qué cargar el DCChilean Express es momento de asignar la mercadería a los distintos vagones. ¡Pero ojo! El tren pasará por varias estaciones, y para que la descarga de la mercadería sea eficiente, se deben ordenar los vagones según el orden en que se desacoplarán del tren. ~~Para simplificar~~ Por suerte, las estaciones están ordenadas alfabéticamente en la línea de ferrocarril. Por lo que deberás ordenar los vagones de la siguiente forma:\n",
    "\n",
    "> Los primeros vagones del tren deben corresponder a las estaciones que se entregarán al final del recorrido, mientras que los últimos vagones estarán destinados a las estaciones del inicio del recorrido. El recorrido por las estaciones se hace en orden alfabético. En caso de que haya varios vagones con destino a la misma estación, se deben ordenar según la fecha de vencimiento de su carga: primero se colocan los vagones con mercadería que vence más tarde y, detrás de ellos, los que tienen una fecha de vencimiento más próxima.\n",
    "\n",
    "Para que el tren pueda lograr su función, este debe permitir que se agreguen y se desacoplen vagones de él. Para esto, deberás completar los siguientes métodos de la clase `Tren`:\n",
    "\n",
    "- `agregar_vagon`: este método debe crear un nuevo objeto `Vagon` y ubicarlo en el tren según el orden definido arriba. La clase `Vagon` tiene el método `__gt__` implementado, por lo que puedes comparar dos instancias con el operador `>` según el orden indicado arriba. Para la inserción hay tres opciones:\n",
    "    - Si la lista está vacía, el nuevo se convierte en cabeza y cola.\n",
    "    - Si el nuevo es mayor que la cabeza, se inserta al inicio y pasa a ser la nueva cabeza.\n",
    "    - En cualquier otro caso, hay que recorrer los vagones del tren hasta encontrar la posición correcta. Al final siempre se incrementa el largo del tren.\n",
    "\n",
    "- `desacoplar_vagon`: este método quita y devuelve el último vagón del tren, decrementando el largo de éste. De nuevo, hay tres opciones:\n",
    "    - Si el tren está vacío, retorna ``None``.\n",
    "    - Si tiene un solo elemento, lo retorna y cambia ``self.cabeza`` y ``self.cola`` a ``None``.\n",
    "    - Si hay más de un vagón en el tren, se entrega el último, teniendo cuidado de actualizar el valor de la nueva cola y eliminando el atributo `siguiente` de esta última."
   ]
  },
  {
   "cell_type": "code",
   "execution_count": null,
   "metadata": {
    "colab": {
     "base_uri": "https://localhost:8080/"
    },
    "executionInfo": {
     "elapsed": 6,
     "status": "ok",
     "timestamp": 1753727539671,
     "user": {
      "displayName": "CLEMENTE CAMPOS",
      "userId": "05449692516689846873"
     },
     "user_tz": 240
    },
    "id": "0bUH0hLrsRk-",
    "outputId": "3988b885-62bf-4573-b798-305393f3cf15"
   },
   "outputs": [],
   "source": [
    "class Vagon:\n",
    "\n",
    "    def __init__(self, mercaderia: Mercaderia):\n",
    "        self.carga = mercaderia\n",
    "        self.siguiente: Vagon | None = None  # Puede ser Vagon o None\n",
    "    \n",
    "    def __str__(self) -> str:\n",
    "        return f'[{self.carga}]->'\n",
    "    \n",
    "    def __gt__(self, otro_vagon: Vagon) -> bool:\n",
    "        '''\n",
    "        Definimos el operador > para comparar vagones. Esto encapsula la\n",
    "        lógica de orden dentro de la clase Vagon, evitando\n",
    "        duplicar código de comparación en otras partes del programa.\n",
    "        '''\n",
    "\n",
    "        if not isinstance(otro_vagon, Vagon):\n",
    "            raise TypeError(f'Argumento de tipo {type(otro_vagon)},'\n",
    "                            f' cuando se esperaba un {type(self)}.')\n",
    "        \n",
    "        if (self.carga.estacion == otro_vagon.carga.estacion):\n",
    "            return self.carga.fecha_vencimiento > otro_vagon.carga.fecha_vencimiento\n",
    "        return self.carga.estacion > otro_vagon.carga.estacion\n",
    "    \n",
    "\n",
    "class Tren:\n",
    "\n",
    "    def __init__(self):\n",
    "        self.cabeza = None\n",
    "        self.cola = None\n",
    "        self.largo = 0\n",
    "\n",
    "    def agregar_vagon(self, mercaderia: Mercaderia) -> None:\n",
    "        # COMPLETAR\n",
    "        pass \n",
    " \n",
    "    def desacoplar_vagon(self) -> Vagon | None:\n",
    "        # COMPLETAR\n",
    "        pass \n",
    "        \n",
    "    def __str__(self) -> str:\n",
    "        if self.largo == 0:\n",
    "            return 'Tren sin carga'\n",
    "        \n",
    "        tren = ''\n",
    "        actual = self.cabeza\n",
    "        while actual is not None:\n",
    "            tren += str(actual)\n",
    "            actual = actual.siguiente\n",
    "        return tren\n",
    "\n",
    "\n",
    "tren = Tren()\n",
    "\n",
    "with open('mercaderia.csv', encoding='utf-8') as archivo:\n",
    "    print('Acoplando vagones!')\n",
    "    for linea in archivo:\n",
    "        datos = linea.strip().split(\",\")\n",
    "        fecha = Fecha(*(int(i) for i in datos[1].split(\";\")))\n",
    "        mercaderia = Mercaderia(datos[0], fecha, int(datos[2]), datos[3])\n",
    "        tren.agregar_vagon(mercaderia)\n",
    "        print(tren)\n",
    "        \n",
    "print(f'Tren, de largo {tren.largo}, listo para comenzar el viaje!')\n",
    "while tren.cabeza is not None:\n",
    "    tren.desacoplar_vagon()\n",
    "    print(tren)\n",
    "\n",
    "print('Tren llegó al destino entregando exitosamente toda su carga.')\n"
   ]
  },
  {
   "cell_type": "markdown",
   "metadata": {
    "id": "k1VJ-Ne0spmN"
   },
   "source": [
    "## Ejercicio 3: ¿Todo en orden? \n",
    "\n",
    "Gracias a ti y a tus habilidades de programación, el magnífico DCChilean Express llegó a Castletown, distribuyendo eficientemente bienes a lo largo del país. Ahora, en la estación terminal, te solicitan el historial de descarga para compararlo con el manifiesto de carga y corroborar que todo salió en orden. Lamentablemente, su sistema está caído, ¡oh no! Cuando todo parece perdido, recuerdas tus habilidades y les ofreces tu ayuda, para así salvar el día.\n",
    "\n",
    "Para lograrlo, deberás completar la función **verificador_mercaderias**, que recibe un `IteradorConjuntoMercaderia` ordenado con la función `estacion_fecha_sort` y un generador con instancias de mercaderías en el mismo orden. Esta función debe seguir el siguiente comportamiento:\n",
    "- Imprimir el mensaje `Comenzando verificación de mercaderías...`.\n",
    "- Recorrer ambos iteradores en paralelo utilizando el método `__next__` de cada uno y comprobar que todos los pares de elementos coincidan. Si en algún momento se encuentra una diferencia, se debe mostrar el mensaje `Error detectado! Mercaderías difieren!`. En caso de que todos los elementos sean iguales, se imprime `Mercaderías verificadas, todo en orden!`.\n",
    "\n",
    "Puedes asumir que ambos iteradores tendrán el mismo número de elementos.\n",
    "\n",
    "Ojo: no debes preocuparte de que ninguno de los generadores se acabe, gracias al bloque `try`/`except`. La semana que viene aprenderás cómo funciona esto 👀."
   ]
  },
  {
   "cell_type": "code",
   "execution_count": null,
   "metadata": {
    "colab": {
     "base_uri": "https://localhost:8080/"
    },
    "executionInfo": {
     "elapsed": 3,
     "status": "ok",
     "timestamp": 1753727539671,
     "user": {
      "displayName": "CLEMENTE CAMPOS",
      "userId": "05449692516689846873"
     },
     "user_tz": 240
    },
    "id": "PdTGoR6psvSR",
    "outputId": "9d07b026-d534-455b-e9b8-2053087c8bd7"
   },
   "outputs": [],
   "source": [
    "from typing import Generator\n",
    "from utils import obtener_mercaderias\n",
    "\n",
    "def estacion_fecha_sort(carga: Mercaderia):\n",
    "    return (carga.estacion, carga.fecha_vencimiento)\n",
    "\n",
    "def verificador_mercaderias(iter_historial: IteradorConjuntoMercaderia, gen_mercaderias: Generator):\n",
    "    try:\n",
    "        # COMPLETAR\n",
    "        pass \n",
    "    except StopIteration:\n",
    "        print('Mercaderías verificadas, todo en orden!')\n",
    "\n",
    "historial_descarga = ConjuntoMercaderia('DCChilean Express', estacion_fecha_sort)\n",
    "historial_descarga.cargar('mercaderia.csv')\n",
    "manifiesto_carga = obtener_mercaderias('mercaderia.csv', estacion_fecha_sort)\n",
    "\n",
    "# LLama a la función de verificación\n",
    "verificador_mercaderias(iter(historial_descarga), manifiesto_carga)"
   ]
  }
 ],
 "metadata": {
  "colab": {
   "authorship_tag": "ABX9TyN7IyZtZRZTfn5a4b5nBu5L",
   "provenance": []
  },
  "kernelspec": {
   "display_name": "Python 3",
   "name": "python3"
  },
  "language_info": {
   "codemirror_mode": {
    "name": "ipython",
    "version": 3
   },
   "file_extension": ".py",
   "mimetype": "text/x-python",
   "name": "python",
   "nbconvert_exporter": "python",
   "pygments_lexer": "ipython3",
   "version": "3.12.9"
  }
 },
 "nbformat": 4,
 "nbformat_minor": 0
}
